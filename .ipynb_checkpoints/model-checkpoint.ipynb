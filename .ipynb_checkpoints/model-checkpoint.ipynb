{
 "cells": [
  {
   "cell_type": "code",
   "execution_count": 1,
   "metadata": {},
   "outputs": [
    {
     "name": "stderr",
     "output_type": "stream",
     "text": [
      "Using TensorFlow backend.\n"
     ]
    }
   ],
   "source": [
    "# Matplotlib is a Python 2D plotting library which produces publication quality figures in a variety of \n",
    "# hardcopy formats and interactive environments across platforms\n",
    "import matplotlib.pyplot as plt\n",
    "\n",
    "# NumPy is the fundamental package for scientific computing with Python\n",
    "import numpy as np\n",
    "\n",
    "# Keras is a high-level neural networks API, written in Python and capable of running on top of TensorFlow, CNTK, or Theano\n",
    "import keras\n",
    "\n",
    "# Import the MNIST dataset directly from the Keras API\n",
    "from keras.datasets import mnist \n",
    "\n",
    "# The Sequential model is a linear stack of layers\n",
    "from keras.models import Sequential \n",
    "\n",
    "#''' Please refer to the wiki of the repository from which this project is located for a more in-depth analysis and explanation\n",
    "   # of various imports, packages, the model, how it is trained, etc. '''\n",
    "# Dense - implements the operation: output = activation(dot(input, kernel) + bias) where activation is the element-wise \n",
    "# activation function passed as the activation argument, kernel is a weights matrix created by the layer, and bias is a bias \n",
    "# vector created by the layer (only applicable if use_bias is True)\n",
    "\n",
    "# Dropout - applies Dropout to the input. This consists of randomly setting a fraction rate of input units to 0 \n",
    "# at each update during training time, which helps prevent overfitting\n",
    "\n",
    "# Flatten - 'flattens' the input. Does not affect the batch size. Flattening a tensor means to remove all of the dimensions except for one\n",
    "# Conv2D - 2D convolution layer (e.g. spatial convolution over images). Creates a convolution kernel that is convolved with the layer input \n",
    "# to produce a tensor of outputs\n",
    "\n",
    "# MaxPooling2D - Max pooling operation for spatial data\n",
    "from keras.layers import Dense, Dropout, Flatten, Conv2D, MaxPooling2D\n",
    "\n",
    "# Allows for the saving and loading of the model\n",
    "from keras.models import load_model\n",
    "\n",
    "from keras import backend as kBackend"
   ]
  },
  {
   "cell_type": "code",
   "execution_count": 2,
   "metadata": {},
   "outputs": [],
   "source": [
    "# Downloads the MNIST data set directly from the TensorFlow and Keras API. The MNIST dataset contains 60,000 training images\n",
    "# and 10,000 testing images (with accompanying labels). We separate these two groups into train_imgs and train_labels for the training\n",
    "# images and training labels, respectively, and test_imgs and test_labels for the test images and test labels respectively\n",
    "(train_imgs, train_labels), (test_imgs, test_labels) = mnist.load_data()"
   ]
  },
  {
   "cell_type": "code",
   "execution_count": 3,
   "metadata": {},
   "outputs": [],
   "source": [
    "# Defines the size of the image as 28 * 28 pixels\n",
    "img_rows, img_cols = 28, 28"
   ]
  },
  {
   "cell_type": "code",
   "execution_count": 4,
   "metadata": {},
   "outputs": [],
   "source": [
    "# Reshaping\n",
    "#\n",
    "# To be able to use the MNIST dataset with the Keras API, we need to change our array (which is 3-dimensional)\n",
    "# to 4-dimensional numpy arrays\n",
    "\n",
    "# https://stackoverflow.com/questions/49057149/expected-conv2d-1-input-to-have-shape-28-28-1-but-got-array-with-shape-1-2\n",
    "if kBackend.image_data_format() == 'channels_first':\n",
    "    train_imgs = train_imgs.reshape(train_imgs.shape[0], 1, img_rows, img_cols)\n",
    "    test_imgs = test_imgs.reshape(test_imgs.shape[0], 1, img_rows, img_cols)\n",
    "    input_shape = (1, img_rows, img_cols)\n",
    "else:\n",
    "    train_imgs = train_imgs.reshape(train_imgs.shape[0], img_rows, img_cols, 1)\n",
    "    test_imgs = test_imgs.reshape(test_imgs.shape[0], img_rows, img_cols, 1)\n",
    "    input_shape = (img_rows, img_cols, 1)"
   ]
  },
  {
   "cell_type": "code",
   "execution_count": 5,
   "metadata": {},
   "outputs": [],
   "source": [
    "# Ensure the values of train_imgs and test_imgs are float. This is done so as we can get decimal points after division\n",
    "train_imgs = train_imgs.astype('float32')\n",
    "test_imgs = test_imgs.astype('float32')\n",
    "\n",
    "# We also must 'normalize' our data, as is always required in neural networks.\n",
    "# This can be done by dividing the RGB codes of the images to 255\n",
    "train_imgs /= 255\n",
    "test_imgs /= 255"
   ]
  },
  {
   "cell_type": "code",
   "execution_count": 6,
   "metadata": {},
   "outputs": [
    {
     "data": {
      "text/plain": [
       "array([0., 0., 0., 0., 0., 1., 0., 0., 0., 0.], dtype=float32)"
      ]
     },
     "execution_count": 6,
     "metadata": {},
     "output_type": "execute_result"
    }
   ],
   "source": [
    "# In the model, we can experiment with any number for the first Dense layer. However, the final Dense layer must have\n",
    "# 10 neurons since there are 10 number classes (0, 1, 2, 3, ..., 9)\n",
    "num_classes = 10\n",
    "\n",
    "# \n",
    "rate = 0.5\n",
    "\n",
    "train_labels = keras.utils.to_categorical(train_labels, num_classes)\n",
    "test_labels = keras.utils.to_categorical(test_labels, num_classes)\n",
    "train_labels[0]"
   ]
  },
  {
   "cell_type": "code",
   "execution_count": 7,
   "metadata": {},
   "outputs": [],
   "source": [
    "# Create a Sequential model and add the layers\n",
    "model = Sequential()\n",
    "\n",
    "model.add(Conv2D(32, kernel_size=(3, 3),\n",
    "                 activation='relu', input_shape=input_shape))\n",
    "model.add(Conv2D(64, (3, 3), activation='relu'))\n",
    "model.add(MaxPooling2D(pool_size=(2, 2)))\n",
    "model.add(Dropout(0.25))\n",
    "model.add(Flatten())  # Flattens the 2D arrays for fully connected layers\n",
    "model.add(Dense(128, activation='relu'))\n",
    "model.add(Dropout(rate))\n",
    "model.add(Dense(num_classes, activation='softmax'))\n",
    "model.compile(loss=keras.losses.categorical_crossentropy,\n",
    "              optimizer=keras.optimizers.Adadelta(), metrics=['accuracy'])"
   ]
  },
  {
   "cell_type": "code",
   "execution_count": 8,
   "metadata": {},
   "outputs": [
    {
     "name": "stdout",
     "output_type": "stream",
     "text": [
      "Train on 60000 samples, validate on 10000 samples\n",
      "Epoch 1/10\n",
      "60000/60000 [==============================] - 48s 801us/step - loss: 0.2611 - accuracy: 0.9192 - val_loss: 0.0583 - val_accuracy: 0.9820\n",
      "Epoch 2/10\n",
      "60000/60000 [==============================] - 48s 807us/step - loss: 0.0881 - accuracy: 0.9743 - val_loss: 0.0450 - val_accuracy: 0.9847\n",
      "Epoch 3/10\n",
      "60000/60000 [==============================] - 49s 812us/step - loss: 0.0662 - accuracy: 0.9804 - val_loss: 0.0352 - val_accuracy: 0.9878\n",
      "Epoch 4/10\n",
      "60000/60000 [==============================] - 49s 810us/step - loss: 0.0538 - accuracy: 0.9840 - val_loss: 0.0353 - val_accuracy: 0.9874\n",
      "Epoch 5/10\n",
      "60000/60000 [==============================] - 49s 811us/step - loss: 0.0471 - accuracy: 0.9858 - val_loss: 0.0318 - val_accuracy: 0.9900\n",
      "Epoch 6/10\n",
      "60000/60000 [==============================] - 49s 810us/step - loss: 0.0412 - accuracy: 0.9875 - val_loss: 0.0312 - val_accuracy: 0.9892\n",
      "Epoch 7/10\n",
      "60000/60000 [==============================] - 49s 810us/step - loss: 0.0371 - accuracy: 0.9886 - val_loss: 0.0286 - val_accuracy: 0.9902\n",
      "Epoch 8/10\n",
      "60000/60000 [==============================] - 48s 808us/step - loss: 0.0352 - accuracy: 0.9894 - val_loss: 0.0292 - val_accuracy: 0.9908\n",
      "Epoch 9/10\n",
      "60000/60000 [==============================] - 49s 809us/step - loss: 0.0309 - accuracy: 0.9908 - val_loss: 0.0241 - val_accuracy: 0.9921\n",
      "Epoch 10/10\n",
      "60000/60000 [==============================] - 48s 806us/step - loss: 0.0275 - accuracy: 0.9914 - val_loss: 0.0255 - val_accuracy: 0.9917\n",
      "Saved model. Model will now be loaded on next run through\n"
     ]
    }
   ],
   "source": [
    "# Determines the number of samples that will be propagated through the neural network\n",
    "batch_size = 128\n",
    "\n",
    "# In the context of a neural network, one epoch is the equivalent of one forward pass and one backward pass of\n",
    "# all the training examples\n",
    "\n",
    "# With this model, the model seems to peak (in terms of accuracy) at 20 epochs. Any more epochs after this is more or less overkill\n",
    "num_epoch = 10\n",
    "\n",
    "# To avoid having to train the model each time the program is ran, the trained model can be loaded from a file\n",
    "# If no file has been created, then the model is trained and then saved to a file. For the purposes of this notebook, \n",
    "# the model will be trained each time\n",
    "\n",
    "# try:\n",
    "#     print(\"Model loaded successfully\")\n",
    "#     model = load_model(\"model.h5\")\n",
    "# except:\n",
    "#     print(\"Failed to load model. Creating new model...\")\n",
    "model_log = model.fit(train_imgs, train_labels,\n",
    "                          batch_size=batch_size,\n",
    "                          epochs=num_epoch,\n",
    "                          verbose=1,\n",
    "                          validation_data=(test_imgs, test_labels))\n",
    "\n",
    "model.save_weights(\"model.h5\")\n",
    "\n",
    "model.save(\"model.h5\")\n",
    "print(\"Saved model. Model will now be loaded on next run through\")"
   ]
  },
  {
   "cell_type": "code",
   "execution_count": 9,
   "metadata": {},
   "outputs": [
    {
     "data": {
      "image/png": "[encoded data removed]",
      "text/plain": [
       "<Figure size 432x288 with 1 Axes>"
      ]
     },
     "metadata": {
      "needs_background": "light"
     },
     "output_type": "display_data"
    },
    {
     "name": "stdout",
     "output_type": "stream",
     "text": [
      "[[7.8598394e-10 3.0229991e-10 2.3736584e-09 1.5166124e-11 2.5477650e-08\n",
      "  5.0896073e-08 9.9999988e-01 2.2509323e-14 3.6671077e-09 2.4259527e-12]] \n",
      "Predicted number:  6\n"
     ]
    }
   ],
   "source": [
    "plt.imshow(test_imgs[9999].reshape(28, 28), cmap=\"gray\")\n",
    "plt.show()\n",
    "\n",
    "print(model.predict(test_imgs[9999:10000]), \"\\nPredicted number: \", np.argmax(model.predict(test_imgs[9999:10000])))"
   ]
  }
 ],
 "metadata": {
  "file_extension": ".py",
  "kernelspec": {
   "display_name": "Python 3",
   "language": "python",
   "name": "python3"
  },
  "language_info": {
   "codemirror_mode": {
    "name": "ipython",
    "version": 3
   },
   "file_extension": ".py",
   "mimetype": "text/x-python",
   "name": "python",
   "nbconvert_exporter": "python",
   "pygments_lexer": "ipython3",
   "version": "3.7.5"
  },
  "mimetype": "text/x-python",
  "name": "python",
  "npconvert_exporter": "python",
  "pygments_lexer": "ipython3",
  "version": 3
 },
 "nbformat": 4,
 "nbformat_minor": 4
}
