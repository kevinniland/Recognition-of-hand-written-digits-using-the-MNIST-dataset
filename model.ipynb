{
 "cells": [
  {
   "cell_type": "raw",
   "metadata": {},
   "source": [
    "# Matplotlib is a Python 2D plotting library which produces publication quality figures in a variety of \n",
    "# hardcopy formats and interactive environments across platforms\n",
    "import matplotlib.pyplot as plt\n",
    "\n",
    "# NumPy is the fundamental package for scientific computing with Python\n",
    "import numpy as np\n",
    "\n",
    "# Keras is a high-level neural networks API, written in Python and capable of running on top of TensorFlow, CNTK, or Theano\n",
    "import keras\n",
    "\n",
    "# Import the MNIST dataset directly from the Keras API\n",
    "from keras.datasets import mnist \n",
    "\n",
    "# The Sequential model is a linear stack of layers\n",
    "from keras.models import Sequential \n",
    "\n",
    "#''' Please refer to the wiki of the repository from which this project is located for a more in-depth analysis and explanation\n",
    "   # of various imports, packages, the model, how it is trained, etc. '''\n",
    "# Dense - implements the operation: output = activation(dot(input, kernel) + bias) where activation is the element-wise \n",
    "# activation function passed as the activation argument, kernel is a weights matrix created by the layer, and bias is a bias \n",
    "# vector created by the layer (only applicable if use_bias is True)\n",
    "\n",
    "# Dropout - applies Dropout to the input. This consists of randomly setting a fraction rate of input units to 0 \n",
    "# at each update during training time, which helps prevent overfitting\n",
    "\n",
    "# Flatten - 'flattens' the input. Does not affect the batch size. Flattening a tensor means to remove all of the dimensions except for one\n",
    "# Conv2D - 2D convolution layer (e.g. spatial convolution over images). Creates a convolution kernel that is convolved with the layer input \n",
    "# to produce a tensor of outputs\n",
    "\n",
    "# MaxPooling2D - Max pooling operation for spatial data\n",
    "from keras.layers import Dense, Dropout, Flatten, Conv2D, MaxPooling2D\n",
    "\n",
    "# Allows for the saving and loading of the model\n",
    "from keras.models import load_model\n",
    "\n",
    "from keras import backend as kBackend"
   ]
  },
  {
   "cell_type": "code",
   "execution_count": 2,
   "metadata": {},
   "outputs": [],
   "source": [
    "# Downloads the MNIST data set directly from the TensorFlow and Keras API. The MNIST dataset contains 60,000 training images\n",
    "# and 10,000 testing images (with accompanying labels). We separate these two groups into train_imgs and train_labels for the training\n",
    "# images and training labels, respectively, and test_imgs and test_labels for the test images and test labels respectively\n",
    "(train_imgs, train_labels), (test_imgs, test_labels) = mnist.load_data()"
   ]
  },
  {
   "cell_type": "code",
   "execution_count": 4,
   "metadata": {},
   "outputs": [
    {
     "data": {
      "image/png": "[encoded data removed]",
      "text/plain": [
       "<Figure size 432x288 with 9 Axes>"
      ]
     },
     "metadata": {},
     "output_type": "display_data"
    }
   ],
   "source": [
    "# Creates a new figure\n",
    "plt.figure()\n",
    "\n",
    "# Displays 9 digits\n",
    "for i in range(9):\n",
    "    # Add a subplot to the current figure\n",
    "    plt.subplot(3, 3, i + 1)\n",
    "    \n",
    "    # Provides routines to adjust subplot params so that subplots are nicely fit in the figure\n",
    "    plt.tight_layout()\n",
    "    \n",
    "    # Displays training images at index i, colormap of gray, and \n",
    "    plt.imshow(train_imgs[i], cmap='gray', interpolation='none')\n",
    "    \n",
    "    # Adds a title to each digit\n",
    "    plt.title(\"Digit: {}\".format(train_labels[i]))\n",
    "    \n",
    "    # Get or set the current tick locations and labels of the x-axis\n",
    "    plt.xticks([])\n",
    "    \n",
    "    # Get or set the current tick locations and labels of the y-axis\n",
    "    plt.yticks([])\n",
    "    \n",
    "# Display a figure    \n",
    "plt.show()"
   ]
  },
  {
   "cell_type": "code",
   "execution_count": 3,
   "metadata": {},
   "outputs": [
    {
     "name": "stdout",
     "output_type": "stream",
     "text": [
      "Training digits shape:  (60000, 28, 28)\n",
      "Training labels shape:  (60000,)\n",
      "Testing digits shape:  (10000, 28, 28)\n",
      "Testing labels shape:  (10000,)\n"
     ]
    }
   ],
   "source": [
    "# Print data shapes\n",
    "print(\"Training digits shape: \", train_imgs.shape)\n",
    "print(\"Training labels shape: \", train_labels.shape)\n",
    "print(\"Testing digits shape: \", test_imgs.shape)\n",
    "print(\"Testing labels shape: \", test_labels.shape)"
   ]
  },
  {
   "cell_type": "code",
   "execution_count": 4,
   "metadata": {},
   "outputs": [],
   "source": [
    "# Defines the size of the image as 28 * 28 pixels\n",
    "img_rows, img_cols = 28, 28"
   ]
  },
  {
   "cell_type": "code",
   "execution_count": 5,
   "metadata": {},
   "outputs": [
    {
     "name": "stdout",
     "output_type": "stream",
     "text": [
      "60000 training samples\n",
      "10000 testing samples\n"
     ]
    }
   ],
   "source": [
    "# Reshaping\n",
    "#\n",
    "# To be able to use the MNIST dataset with the Keras API, we need to change our array (which is 3-dimensional)\n",
    "# to 4-dimensional numpy arrays\n",
    "\n",
    "# https://stackoverflow.com/questions/49057149/expected-conv2d-1-input-to-have-shape-28-28-1-but-got-array-with-shape-1-2\n",
    "if kBackend.image_data_format() == 'channels_first':\n",
    "    train_imgs = train_imgs.reshape(train_imgs.shape[0], 1, img_rows, img_cols)\n",
    "    test_imgs = test_imgs.reshape(test_imgs.shape[0], 1, img_rows, img_cols)\n",
    "    input_shape = (1, img_rows, img_cols)\n",
    "else:\n",
    "    train_imgs = train_imgs.reshape(train_imgs.shape[0], img_rows, img_cols, 1)\n",
    "    test_imgs = test_imgs.reshape(test_imgs.shape[0], img_rows, img_cols, 1)\n",
    "    input_shape = (img_rows, img_cols, 1)\n",
    "    \n",
    "# Print number of training and testing samples\n",
    "print(train_imgs.shape[0], 'training samples')\n",
    "print(test_imgs.shape[0], 'testing samples')"
   ]
  },
  {
   "cell_type": "code",
   "execution_count": 6,
   "metadata": {},
   "outputs": [],
   "source": [
    "# Ensure the values of train_imgs and test_imgs are float. This is done so as we can get decimal points after division\n",
    "train_imgs = train_imgs.astype('float32')\n",
    "test_imgs = test_imgs.astype('float32')\n",
    "\n",
    "# We also must 'normalize' our data, as is always required in neural networks.\n",
    "# This can be done by dividing the RGB codes of the images to 255\n",
    "train_imgs /= 255\n",
    "test_imgs /= 255"
   ]
  },
  {
   "cell_type": "code",
   "execution_count": 7,
   "metadata": {},
   "outputs": [],
   "source": [
    "# In the model, we can experiment with any number for the first Dense layer. However, the final Dense layer must have\n",
    "# 10 neurons since there are 10 number classes (0, 1, 2, 3, ..., 9)\n",
    "num_classes = 10\n",
    "\n",
    "# Used to determine the rate of dropout in the below Dropout layers\n",
    "firstDropout = 0.25\n",
    "secondDropout = 0.5\n",
    "\n",
    "train_labels = keras.utils.to_categorical(train_labels, num_classes)\n",
    "test_labels = keras.utils.to_categorical(test_labels, num_classes)"
   ]
  },
  {
   "cell_type": "code",
   "execution_count": 8,
   "metadata": {},
   "outputs": [],
   "source": [
    "# Create a Sequential model and add the layers. The Sequential model is a linear stack of layers.\n",
    "model = Sequential()\n",
    "\n",
    "# This particular model has 8 layers\n",
    "\n",
    "# Activation - In the first, second, sixth, and eighth, we use a parameter called 'activation'. This computation decides\n",
    "# whether a neuron should be activated or not by calculating weighted sum and further adding bias with it. The purpose \n",
    "# of the activation function is to introduce non-linearity into the output of a neuron. Sigmoid, Tanh/Hyperbolic, and \n",
    "# ReLu (Rectified Linear Unit), and Softmax are types of activation\n",
    "\n",
    "# This layer, and the layer below, creates a convolution kernel that is convolved with the layer input to produce a tensor of \n",
    "# outputs. This first convolutional layer adds 32 convolution filters and a kernel size of 3 x 3\n",
    "model.add(Conv2D(32, kernel_size=(3, 3), activation='relu', input_shape=input_shape))\n",
    "\n",
    "# This first convolutional layer adds 64 convolution filters and a kernel size of 3 x 3\n",
    "model.add(Conv2D(64, (3, 3), activation='relu'))\n",
    "\n",
    "# Max pooling operation for spatial data. When constructing CNNs, it is common to insert pooling layers after each convolution \n",
    "# layer (above) to reduce the spatial size of the representation to reduce the parameter counts which reduces the computational \n",
    "# complexity. Basically, we do this to choose the best features via pooling\n",
    "model.add(MaxPooling2D(pool_size=(2, 2)))\n",
    "\n",
    "# A simple and powerful regularization technique for neural networks and deep learning models is dropout. Dropout \n",
    "# is a technique where randomly selected neurons are ignored during training. This means that their contribution\n",
    "# to the activation of downstream neurons is temporally removed on the forward pass and any weight updates are not applied \n",
    "# to the neuron on the backward pass.The randomly selected number of neurons that are ignored during training are based \n",
    "# on the dropout rate we apply\n",
    "model.add(Dropout(firstDropout))\n",
    "\n",
    "# Flattens the 2D arrays for fully connected layers. Since there are too many dimensions, we use Flatten as we only want a \n",
    "# classification output\n",
    "model.add(Flatten()) \n",
    "\n",
    "# https://www.tensorflow.org/api_docs/python/tf/keras/layers/Dense\n",
    "# Ususally, when using the Dense layer, you would specify the input shape. However, as we have already done this in the first\n",
    "# layer, there is no need to do this \n",
    "# Outputs an array of shape (*, 128)\n",
    "model.add(Dense(128, activation='relu'))\n",
    "\n",
    "#  We perform one more droput for the sake of convergence\n",
    "model.add(Dropout(secondDropout))\n",
    "\n",
    "# Softmax turns numbers aka logits into probabilities that sum to one. Output a softmax to squash the matrix into output \n",
    "# probabilities\n",
    "# Outputs an array of shape (*, num_classes)\n",
    "model.add(Dense(num_classes, activation='softmax'))\n",
    "\n",
    "# Adaptive learning rate (Adadelta) is a popular form of gradient descent rivaled only by adam and adagrad\n",
    "# We specify the loss as catergorical_crossentropy as we have multiple classes (10)\n",
    "model.compile(loss=keras.losses.categorical_crossentropy,\n",
    "              optimizer=keras.optimizers.Adadelta(), metrics=['accuracy'])"
   ]
  },
  {
   "cell_type": "code",
   "execution_count": 9,
   "metadata": {},
   "outputs": [
    {
     "name": "stdout",
     "output_type": "stream",
     "text": [
      "Train on 60000 samples, validate on 10000 samples\n",
      "Epoch 1/10\n",
      "60000/60000 [==============================] - 87s 1ms/step - loss: 0.2711 - accuracy: 0.9166 - val_loss: 0.0598 - val_accuracy: 0.9807\n",
      "Epoch 2/10\n",
      "60000/60000 [==============================] - 86s 1ms/step - loss: 0.0923 - accuracy: 0.9726 - val_loss: 0.0444 - val_accuracy: 0.9845\n",
      "Epoch 3/10\n",
      "60000/60000 [==============================] - 86s 1ms/step - loss: 0.0686 - accuracy: 0.9796 - val_loss: 0.0383 - val_accuracy: 0.9866\n",
      "Epoch 4/10\n",
      "60000/60000 [==============================] - 86s 1ms/step - loss: 0.0566 - accuracy: 0.9828 - val_loss: 0.0291 - val_accuracy: 0.9897\n",
      "Epoch 5/10\n",
      "60000/60000 [==============================] - 86s 1ms/step - loss: 0.0481 - accuracy: 0.9860 - val_loss: 0.0292 - val_accuracy: 0.9900\n",
      "Epoch 6/10\n",
      "60000/60000 [==============================] - 86s 1ms/step - loss: 0.0450 - accuracy: 0.9863 - val_loss: 0.0284 - val_accuracy: 0.9910\n",
      "Epoch 7/10\n",
      "60000/60000 [==============================] - 86s 1ms/step - loss: 0.0389 - accuracy: 0.9881 - val_loss: 0.0284 - val_accuracy: 0.9906\n",
      "Epoch 8/10\n",
      "60000/60000 [==============================] - 86s 1ms/step - loss: 0.0345 - accuracy: 0.9895 - val_loss: 0.0285 - val_accuracy: 0.9912\n",
      "Epoch 9/10\n",
      "60000/60000 [==============================] - 82s 1ms/step - loss: 0.0332 - accuracy: 0.9901 - val_loss: 0.0294 - val_accuracy: 0.9897\n",
      "Epoch 10/10\n",
      "60000/60000 [==============================] - 86s 1ms/step - loss: 0.0310 - accuracy: 0.9903 - val_loss: 0.0312 - val_accuracy: 0.9903\n",
      "Saved model. Model will now be loaded on next run through\n"
     ]
    }
   ],
   "source": [
    "# Determines the number of samples that will be propagated through the neural network\n",
    "batch_size = 128\n",
    "\n",
    "# In the context of a neural network, one epoch is the equivalent of one forward pass and one backward pass of\n",
    "# all the training examples\n",
    "\n",
    "# With this model, the model seems to peak (in terms of accuracy) at 20 epochs. Any more epochs after this is more or less overkill\n",
    "num_epoch = 10\n",
    "\n",
    "# To avoid having to train the model each time the program is ran, the trained model can be loaded from a file\n",
    "# If no file has been created, then the model is trained and then saved to a file. For the purposes of this notebook, \n",
    "# the model will be trained each time\n",
    "\n",
    "# try:\n",
    "#     print(\"Model loaded successfully\")\n",
    "#     model = load_model(\"model.h5\")\n",
    "# except:\n",
    "#     print(\"Failed to load model. Creating new model...\")\n",
    "model_log = model.fit(train_imgs, train_labels,\n",
    "                          batch_size=batch_size,\n",
    "                          epochs=num_epoch,\n",
    "                          verbose=1,\n",
    "                          validation_data=(test_imgs, test_labels))\n",
    "\n",
    "model.save_weights(\"model.h5\")\n",
    "\n",
    "model.save(\"model.h5\")\n",
    "print(\"Saved model. Model will now be loaded on next run through\")"
   ]
  },
  {
   "cell_type": "code",
   "execution_count": 10,
   "metadata": {},
   "outputs": [
    {
     "data": {
      "image/png": "[encoded data removed]",
      "text/plain": [
       "<Figure size 432x288 with 1 Axes>"
      ]
     },
     "metadata": {
      "needs_background": "light"
     },
     "output_type": "display_data"
    },
    {
     "name": "stdout",
     "output_type": "stream",
     "text": [
      "[[2.7962891e-08 2.5915032e-11 1.2977638e-08 4.7781459e-11 7.0392893e-08\n",
      "  6.1974525e-08 9.9999988e-01 2.2648092e-13 3.9686959e-10 5.4808363e-11]] \n",
      "\n",
      "Predicted number:  6\n"
     ]
    }
   ],
   "source": [
    "plt.imshow(test_imgs[9999].reshape(28, 28), cmap=\"gray\")\n",
    "plt.show()\n",
    "\n",
    "print(model.predict(test_imgs[9999:10000]), \"\\n\\nPredicted number: \", np.argmax(model.predict(test_imgs[9999:10000])))"
   ]
  }
 ],
 "metadata": {
  "file_extension": ".py",
  "kernelspec": {
   "display_name": "Python 3",
   "language": "python",
   "name": "python3"
  },
  "language_info": {
   "codemirror_mode": {
    "name": "ipython",
    "version": 3
   },
   "file_extension": ".py",
   "mimetype": "text/x-python",
   "name": "python",
   "nbconvert_exporter": "python",
   "pygments_lexer": "ipython3",
   "version": "3.7.4"
  },
  "mimetype": "text/x-python",
  "name": "python",
  "npconvert_exporter": "python",
  "pygments_lexer": "ipython3",
  "version": 3
 },
 "nbformat": 4,
 "nbformat_minor": 4
}
